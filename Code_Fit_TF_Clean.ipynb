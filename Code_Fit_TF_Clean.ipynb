{
 "cells": [
  {
   "cell_type": "code",
   "execution_count": 1,
   "metadata": {},
   "outputs": [],
   "source": [
    "import matplotlib.pyplot as plt\n",
    "import numpy as np\n",
    "#import math as mt\n",
    "from mpmath import *\n",
    "from scipy.optimize import curve_fit, minimize\n",
    "import scipy.special as sp_spec"
   ]
  },
  {
   "cell_type": "markdown",
   "metadata": {},
   "source": [
    "# Fit of Transfer Function"
   ]
  },
  {
   "cell_type": "code",
   "execution_count": 2,
   "metadata": {},
   "outputs": [],
   "source": [
    "gizi=0.04 \n",
    "giz=0.01\n",
    "Eiz=-65.\n",
    "Eizi=-60.\n",
    "Ee=0.0\n",
    "Ei=-80.0\n",
    "Qi=5.0\n",
    "Qe=1.5\n",
    "tauize=1\n",
    "tauizi=1\n",
    "tau_adap=1\n",
    "a_adap=1\n",
    "d_adap=15\n",
    "b_adap=0\n",
    "tause=5e-3\n",
    "tausi=5e-3\n",
    "Ke=8000*0.05\n",
    "Ki=2000*0.05\n",
    "ue=0\n",
    "\n",
    "def sv(ne,ni):\n",
    "    muge=Qe*ne*tause*Ke\n",
    "    mugi=Qi*ni*tause*Ki\n",
    "    \n",
    "    ui=0\n",
    "    #ue=0\n",
    "    ue=0.5*d_adap*ne*tau_adap/a_adap    #   du/dt=(a*(b*v-u)) + nu*d /Tu\n",
    "   \n",
    "    muve=((2*giz*Eiz+muge+mugi+b_adap)-np.sqrt((2*giz*Eiz+muge+mugi+b_adap)**2-4*giz*(giz*Eiz**2+muge*Ee+mugi*Ei-ue)))/(2*giz)\n",
    "    muvi=((2*gizi*Eizi+muge+mugi)-np.sqrt((2*gizi*Eizi+muge+mugi)**2-4*gizi*(gizi*Eizi**2+muge*Ee+mugi*Ei-ui)))/(2*gizi)\n",
    "   \n",
    "    ae=giz*(muve-Eiz)**2\n",
    "    ai=gizi*(muvi-Eizi)**2\n",
    " \n",
    "    be=Qe*(Ee-muve)\n",
    "    bi=Qi*(Ei-muvi)\n",
    "    ce=tause\n",
    "    ci=tausi\n",
    "    \n",
    "    sv=np.sqrt(Ke*ne*(2*ae*be*ce**3/tauize**2+ce**3*be**2/(8*tauize)+be**2*ce**3/(8*tauize**2)) + Ki*ni*(2*ai*bi*ci**3/tauizi**2+ci**3*bi**2/(8*tauizi)+bi**2*ci**3/(8*tauizi**2)))\n",
    "    \n",
    "    #print('sv=',sv)\n",
    "    return sv\n",
    "    \n",
    "def tauv(ne,ni):\n",
    "    \n",
    "    ne=ne+1e-9\n",
    "    ni=ni+1e-9\n",
    "    muge=Qe*ne*tause*Ke\n",
    "    mugi=Qi*ni*tause*Ki\n",
    "    #mug=muge+mugi+giz\n",
    "    ui=0\n",
    "    #ue=0\n",
    "    ue=0.5*d_adap*ne**tau_adap/a_adap\n",
    "    muve=((2*giz*Eiz+muge+mugi+b_adap)-np.sqrt((2*giz*Eiz+muge+mugi+b_adap)**2-4*giz*(giz*Eiz**2+muge*Ee+mugi*Ei-ue)))/(2*giz)\n",
    "    muvi=((2*gizi*Eizi+muge+mugi)-np.sqrt((2*gizi*Eizi+muge+mugi)**2-4*gizi*(gizi*Eizi**2+muge*Ee+mugi*Ei-ui)))/(2*gizi)\n",
    "\n",
    "    \n",
    "    ae=giz*(muve-Eiz)**2\n",
    "    ai=gizi*(muvi-Eizi)**2\n",
    "    be=Qe*(Ee-muve)\n",
    "    bi=Qi*(Ei-muvi)\n",
    "    ce=tause\n",
    "    ci=tausi\n",
    "    \n",
    "    svv2=Ke*ne*(2*ae*be*ce**3/tauize**2+ce**3*be**2/(8*tauize)+be**2*ce**3/(8*tauize**2)) + Ki*ni*(2*ai*bi*ci**3/tauizi**2+ci**3*bi**2/(8*tauizi)+bi**2*ci**3/(8*tauizi**2))\n",
    "    \n",
    "    tauv=0.5*(Ke*ne*(be**2*ce**4/(2*np.pi*tauize**2))+Ki*ni*(bi**2*ci**4/(2*np.pi*tauizi**2)))/(svv2+1e-9)\n",
    "    \n",
    "    #print('tauv=',tauv)\n",
    "    return tauv"
   ]
  },
  {
   "cell_type": "code",
   "execution_count": 3,
   "metadata": {},
   "outputs": [],
   "source": [
    "\n",
    "def TF(nu,Po,Pmuv,Psv,Ptauv,Pvsv,Pvtauv,Psvtauv,Pvv,Ptt,Pss,giz,Eiz,d_ad):\n",
    "\n",
    "    ne,ni=nu\n",
    "    muge=Qe*ne*tause*Ke\n",
    "    mugi=Qi*ni*tause*Ki\n",
    "    mug=muge+mugi+giz\n",
    "    ui=0\n",
    "\n",
    "    ue=0.5*d_adap*ne*tau_adap/a_adap  #u_st=(b*nu+a*b*v)*tau/a#du/dt=(a*(b*v-u))/Tu\n",
    "    \n",
    "    muvo=-45\n",
    "    dmuvo=2\n",
    "    svo=4\n",
    "    dsvo=5\n",
    "    tauvo=0.005\n",
    "    dtauvo=0.05\n",
    "    \n",
    "    muv=((2*giz*Eiz+muge+mugi+b_adap)-np.sqrt((2*giz*Eiz+muge+mugi+b_adap)**2-4*giz*(giz*Eiz**2+muge*Ee+mugi*Ei-ue)))/(2*giz)\n",
    "    \n",
    "    Pscale=1.\n",
    "    noutf=Pscale*(sp_spec.erfc(((Po + Pmuv*(muv-muvo)/dmuvo + Psv*(sv(ne,ni)-svo)/dsvo + Ptauv*(tauv(ne,ni)-tauvo)/dtauvo \\\n",
    "            +Pvsv*(muv-muvo)*(sv(ne,ni)-svo)/(dsvo*dmuvo) + Pvtauv*(muv-muvo)*(tauv(ne,ni)-tauvo)/(dtauvo*dmuvo)\\\n",
    "            +Psvtauv*(sv(ne,ni)-svo)*(tauv(ne,ni)-tauvo)/(dtauvo*dsvo) + Pvv*(muv-muvo)**2/(dmuvo*dmuvo) \\\n",
    "            +Ptt*(tauv(ne,ni)-tauvo)**2/(dtauvo*dtauvo) + Pss*(sv(ne,ni)-svo)**2/(dsvo*dsvo))-muv)/(np.sqrt(2)*sv(ne,ni)) ))/(2*tauv(ne,ni))\n",
    "\n",
    "        \n",
    "    return noutf"
   ]
  },
  {
   "cell_type": "code",
   "execution_count": 4,
   "metadata": {},
   "outputs": [],
   "source": [
    "def Tresh_func(nu,Po,Pmuv,Psv,Ptauv,Pvsv,Pvtauv,Psvtauv,Pvv,Ptt,Pss,giz,Eiz,d_adap):\n",
    "    ne,ni=nu\n",
    "\n",
    "    muge=Qe*ne*tause*Ke\n",
    "    mugi=Qi*ni*tause*Ki\n",
    "    mug=muge+mugi+giz\n",
    "    ui=0\n",
    "   \n",
    "    ue=0.5*d_adap*ne*tau_adap/a_adap #u_st=(b*nu+a*b*v)*tau/a#du/dt=(a*(b*v-u))/Tu\n",
    "\n",
    "    muvo=-45\n",
    "    dmuvo=2\n",
    "    svo=4\n",
    "    dsvo=5\n",
    "    tauvo=0.005\n",
    "    dtauvo=0.05\n",
    "\n",
    "    muv=((2*giz*Eiz+muge+mugi+b_adap)-np.sqrt((2*giz*Eiz+muge+mugi+b_adap)**2-4*giz*(giz*Eiz**2+muge*Ee+mugi*Ei-ue)))/(2*giz)\n",
    "\n",
    "\n",
    "    Vteff2=(Po + Pmuv*(muv-muvo)/dmuvo + Psv*(sv(ne,ni)-svo)/dsvo + Ptauv*(tauv(ne,ni)-tauvo)/dtauvo \\\n",
    "            +Pvsv*(muv-muvo)*(sv(ne,ni)-svo)/(dsvo*dmuvo) + Pvtauv*(muv-muvo)*(tauv(ne,ni)-tauvo)/(dtauvo*dmuvo)\\\n",
    "            +Psvtauv*(sv(ne,ni)-svo)*(tauv(ne,ni)-tauvo)/(dtauvo*dsvo) + Pvv*(muv-muvo)**2/(dmuvo*dmuvo) \\\n",
    "            +Ptt*(tauv(ne,ni)-tauvo)**2/(dtauvo*dtauvo) + Pss*(sv(ne,ni)-svo)**2/(dsvo*dsvo))\n",
    "    \n",
    "    return Vteff2"
   ]
  },
  {
   "cell_type": "code",
   "execution_count": 5,
   "metadata": {},
   "outputs": [],
   "source": [
    "def effective_Vthre(ne,ni,Fout,giz,Eiz,d_adap):\n",
    "    \n",
    "    Y=Fout\n",
    "    muge=Qe*ne*tause*Ke\n",
    "    mugi=Qi*ni*tause*Ki\n",
    "    mug=muge+mugi+giz\n",
    "    ui=0\n",
    "    \n",
    "    ue=0.5*d_adap*ne*tau_adap/a_adap#u_st=(b*nu+a*b*v)*tau/a#du/dt=(a*(b*v-u))/Tu\n",
    "    \n",
    "    \n",
    "    muv=((2*giz*Eiz+muge+mugi+b_adap)-np.sqrt((2*giz*Eiz+muge+mugi+b_adap)**2-4*giz*(giz*Eiz**2+muge*Ee+mugi*Ei-ue)))/(2*giz)\n",
    "\n",
    "    \n",
    "    Vthre_eff = muv+np.sqrt(2)*sv(ne,ni)*sp_spec.erfcinv(\\\n",
    "                    Y*2.*tauv(ne,ni)) # effective threshold\n",
    "    return Vthre_eff\n"
   ]
  },
  {
   "cell_type": "code",
   "execution_count": 6,
   "metadata": {},
   "outputs": [],
   "source": [
    "\n",
    "#P=np.ones(10)*1e-1#np.array([-2.19840587e+05, -8.63334589e+04,  1.07805996e+05,  1.06227624e+05,2.39650033e+04,  2.35507810e+04, -1.02726656e+03, -8.33094033e+03,5.19218481e+03,  3.81483637e+01])#np.ones(10)*1e-3\n",
    "#Fout=noutexpe2\n",
    "\n",
    "def Res(P):\n",
    "    \n",
    "    Po,Pmuv,Psv,Ptauv,Pvsv,Pvtauv,Psvtauv,Pvv,Ptt,Pss=P\n",
    "   # print(P)\n",
    "    \n",
    "    Vthre_eff=effective_Vthre(nue2,nui2,Fout,giz,Eiz,d_adap)\n",
    "    vthre=Tresh_func((nue2,nui2),Po,Pmuv,Psv,Ptauv,Pvsv,Pvtauv,Psvtauv,Pvv,Ptt,Pss,giz,Eiz,d_adap)\n",
    "    \n",
    "    res=np.mean((Vthre_eff-vthre)**2)\n",
    "    \n",
    "    return res"
   ]
  },
  {
   "cell_type": "code",
   "execution_count": 7,
   "metadata": {},
   "outputs": [],
   "source": [
    "def Res2(P):\n",
    "    \n",
    "    Po,Pmuv,Psv,Ptauv,Pvsv,Pvtauv,Psvtauv,Pvv,Ptt,Pss=P\n",
    "    #print(P)\n",
    "    \n",
    "    res=np.mean((TF((nue2,nui2),Po,Pmuv,Psv,Ptauv,Pvsv,Pvtauv,Psvtauv,Pvv,Ptt,Pss,giz,Eiz,d_adap) - Fout)**2)\n",
    "    \n",
    "    return res"
   ]
  },
  {
   "cell_type": "code",
   "execution_count": 8,
   "metadata": {},
   "outputs": [],
   "source": [
    "\n",
    "def Resin(P):\n",
    "    \n",
    "    Po,Pmuv,Psv,Ptauv,Pvsv,Pvtauv,Psvtauv,Pvv,Ptt,Pss=P\n",
    "   # print(P)\n",
    "    \n",
    "    Vthre_eff=effective_Vthre(nue2,nui2,Fout,gizi,Eizi,0)\n",
    "    vthre=Tresh_func((nue2,nui2),Po,Pmuv,Psv,Ptauv,Pvsv,Pvtauv,Psvtauv,Pvv,Ptt,Pss,gizi,Eizi,0)\n",
    "    \n",
    "    res=np.mean((Vthre_eff-vthre)**2)\n",
    "    \n",
    "    return res\n",
    "\n",
    "def Res2in(P):\n",
    "    \n",
    "    Po,Pmuv,Psv,Ptauv,Pvsv,Pvtauv,Psvtauv,Pvv,Ptt,Pss=P\n",
    "    #print(P)\n",
    "    \n",
    "    res=np.mean((TF((nue2,nui2),Po,Pmuv,Psv,Ptauv,Pvsv,Pvtauv,Psvtauv,Pvv,Ptt,Pss,gizi,Eizi,0) - Fout)**2)\n",
    "    \n",
    "    return res"
   ]
  },
  {
   "cell_type": "markdown",
   "metadata": {},
   "source": [
    "## Fit for the Excitatory neuron"
   ]
  },
  {
   "cell_type": "code",
   "execution_count": 9,
   "metadata": {},
   "outputs": [],
   "source": [
    "############################### Fit for the excitatory neuron\n",
    "\n",
    "# Define the nue, nui arrays according to the single neuron simulation (pairs of values used)\n",
    "\n",
    "Npts=1  #Resolution of the measured TF\n",
    "Npts2=1\n",
    "nue=np.arange(0.0000002,100, Npts)\n",
    "nui=np.arange(0.0000002,100, Npts2)\n",
    "#noute=np.arange(0.1,201, Npts)\n",
    "\n",
    "dim=len(nue)*len(nui)\n",
    "\n",
    "    \n",
    "nue2=np.ones(dim)        \n",
    "#nui2=np.ones(dim)\n",
    "counter=0        \n",
    "for i in nue:\n",
    "    for j in range(0,len(nui)):  \n",
    "        nue2[counter]=i\n",
    "        \n",
    "        counter=counter+1\n",
    "        \n",
    "nui2=[]        \n",
    "for j in range(0,len(nue)):\n",
    "    nui2=np.concatenate((nui2, nui), axis=None)\n",
    "\n",
    "# Load the simulations from the single neuron\n",
    "noutexpe=np.load('ExpTF_exc_Nstp-100_Nstp2-100_new-params_0-100.npy')#('ExpTF_exc_Nstp100_new_noad_0-200.npy')\n",
    "\n",
    "# Re-write the output of the simulation as an array for the pairs (nue,nui)\n",
    "noutexpe2=np.ones(dim)\n",
    "\n",
    "counter=0\n",
    "\n",
    "for j in range(0,len(nue)):\n",
    "    for i in range(0,len(nui)):\n",
    "        noutexpe2[counter]=noutexpe[j,i]\n",
    "        counter=counter+1\n",
    "\n",
    "\n",
    "#noutexpe"
   ]
  },
  {
   "cell_type": "code",
   "execution_count": 10,
   "metadata": {},
   "outputs": [
    {
     "name": "stderr",
     "output_type": "stream",
     "text": [
      "/home/ftesler/anaconda3/lib/python3.7/site-packages/ipykernel_launcher.py:29: RuntimeWarning: invalid value encountered in sqrt\n",
      "/home/ftesler/anaconda3/lib/python3.7/site-packages/ipykernel_launcher.py:30: RuntimeWarning: invalid value encountered in sqrt\n",
      "/home/ftesler/anaconda3/lib/python3.7/site-packages/ipykernel_launcher.py:40: RuntimeWarning: invalid value encountered in sqrt\n",
      "/home/ftesler/anaconda3/lib/python3.7/site-packages/ipykernel_launcher.py:55: RuntimeWarning: invalid value encountered in sqrt\n",
      "/home/ftesler/anaconda3/lib/python3.7/site-packages/ipykernel_launcher.py:56: RuntimeWarning: invalid value encountered in sqrt\n"
     ]
    }
   ],
   "source": [
    "# Remove all the problematic points (nans, etc.) to make the fit\n",
    "\n",
    "svout=sv(nue2,nui2)\n",
    "tvout=tauv(nue2,nui2)\n",
    "\n",
    "#svout=sv(nue2,nui2)\n",
    "#tvout=tauv(nue2,nui2)\n",
    "\n",
    "jjindex=np.where(np.isnan(svout))\n",
    "\n",
    "\n",
    "nue2=np.delete(nue2,jjindex)\n",
    "nui2=np.delete(nui2,jjindex)\n",
    "noutexpe2=np.delete(noutexpe2,jjindex)\n",
    "\n",
    "tvout=tauv(nue2,nui2)\n",
    "\n",
    "jjindex=np.where(np.isnan(tvout))\n",
    "\n",
    "nue2=np.delete(nue2,jjindex)\n",
    "nui2=np.delete(nui2,jjindex)\n",
    "noutexpe2=np.delete(noutexpe2,jjindex)\n",
    "\n",
    "\n",
    "jjindex=np.where(noutexpe2>0.)\n",
    "\n",
    "nue2=nue2[jjindex]#,jjindex)\n",
    "nui2=nui2[jjindex]\n",
    "noutexpe2=noutexpe2[jjindex]\n",
    "\n",
    "ijn=np.where(noutexpe2>40)\n",
    "nue2=np.delete(nue2,ijn)\n",
    "nui2=np.delete(nui2,ijn)\n",
    "noutexpe2=np.delete(noutexpe2,ijn)\n",
    "\n",
    "\n",
    "\n",
    "Fout=noutexpe2\n",
    "Vthre_eff=effective_Vthre(nue2,nui2,Fout,giz,Eiz,d_adap)\n",
    "ijn=np.where(np.isinf(Vthre_eff))\n",
    "nue2=np.delete(nue2,ijn)\n",
    "nui2=np.delete(nui2,ijn)\n",
    "noutexpe2=np.delete(noutexpe2,ijn)\n"
   ]
  },
  {
   "cell_type": "code",
   "execution_count": 11,
   "metadata": {},
   "outputs": [
    {
     "name": "stdout",
     "output_type": "stream",
     "text": [
      "Optimization terminated successfully.    (Exit mode 0)\n",
      "            Current function value: 0.169744844603893\n",
      "            Iterations: 93\n",
      "            Function evaluations: 1206\n",
      "            Gradient evaluations: 93\n"
     ]
    }
   ],
   "source": [
    "# Fit on Veff_threshold\n",
    "\n",
    "\n",
    "Fout=noutexpe2\n",
    "\n",
    "P=np.ones(10)*3e-1\n",
    "\n",
    "plsq = minimize(Res, P, method='SLSQP',options={'ftol': 1e-17, 'disp': True, 'maxiter':400})"
   ]
  },
  {
   "cell_type": "code",
   "execution_count": 12,
   "metadata": {},
   "outputs": [
    {
     "data": {
      "text/plain": [
       "     fun: 0.169744844603893\n",
       "     jac: array([-1.86264515e-09, -4.09781933e-08, -9.31322575e-09,  1.30385160e-08,\n",
       "        2.42143869e-08, -3.72529030e-09, -3.72529030e-09,  3.35276127e-08,\n",
       "       -2.23517418e-08,  1.30385160e-08])\n",
       " message: 'Optimization terminated successfully.'\n",
       "    nfev: 1206\n",
       "     nit: 93\n",
       "    njev: 93\n",
       "  status: 0\n",
       " success: True\n",
       "       x: array([-3.76123987e+01,  1.45498484e+00,  1.55830485e+01, -1.16746811e+02,\n",
       "       -1.81808500e+00,  3.12268886e+00, -1.12578955e+02, -2.12936089e-02,\n",
       "       -3.57132195e+00,  1.95857949e+00])"
      ]
     },
     "execution_count": 12,
     "metadata": {},
     "output_type": "execute_result"
    }
   ],
   "source": [
    "plsq"
   ]
  },
  {
   "cell_type": "code",
   "execution_count": 13,
   "metadata": {},
   "outputs": [],
   "source": [
    "Pn=plsq.x"
   ]
  },
  {
   "cell_type": "code",
   "execution_count": 14,
   "metadata": {},
   "outputs": [
    {
     "name": "stdout",
     "output_type": "stream",
     "text": [
      "19661.344805846784\n"
     ]
    }
   ],
   "source": [
    "res=Res2(Pn)\n",
    "print(res)"
   ]
  },
  {
   "cell_type": "code",
   "execution_count": 15,
   "metadata": {},
   "outputs": [
    {
     "name": "stdout",
     "output_type": "stream",
     "text": [
      "Optimization terminated successfully.\n",
      "         Current function value: 28.864331\n",
      "         Iterations: 3132\n",
      "         Function evaluations: 4472\n"
     ]
    }
   ],
   "source": [
    "# Fit on TF\n",
    "\n",
    "\n",
    "plsq2 = minimize(Res2, Pn, method='nelder-mead', options={'xtol': 1e-5, 'disp': True, 'maxiter':10000})"
   ]
  },
  {
   "cell_type": "code",
   "execution_count": 16,
   "metadata": {},
   "outputs": [
    {
     "data": {
      "text/plain": [
       " final_simplex: (array([[-2.78488672e+01,  7.75186875e-02,  2.38588248e+01,\n",
       "         9.19915928e+00, -2.87046427e+00, -1.07017463e+00,\n",
       "         6.16695768e+00, -9.97505733e-03,  5.95040383e+00,\n",
       "         1.14656771e+00],\n",
       "       [-2.78488675e+01,  7.75187413e-02,  2.38588247e+01,\n",
       "         9.19915211e+00, -2.87046427e+00, -1.07017433e+00,\n",
       "         6.16695199e+00, -9.97505865e-03,  5.95040338e+00,\n",
       "         1.14656778e+00],\n",
       "       [-2.78488667e+01,  7.75186107e-02,  2.38588255e+01,\n",
       "         9.19916147e+00, -2.87046439e+00, -1.07017462e+00,\n",
       "         6.16696134e+00, -9.97505794e-03,  5.95040422e+00,\n",
       "         1.14656773e+00],\n",
       "       [-2.78488673e+01,  7.75187052e-02,  2.38588253e+01,\n",
       "         9.19915461e+00, -2.87046438e+00, -1.07017446e+00,\n",
       "         6.16695420e+00, -9.97506039e-03,  5.95040369e+00,\n",
       "         1.14656776e+00],\n",
       "       [-2.78488674e+01,  7.75187264e-02,  2.38588250e+01,\n",
       "         9.19915510e+00, -2.87046430e+00, -1.07017443e+00,\n",
       "         6.16695485e+00, -9.97505890e-03,  5.95040353e+00,\n",
       "         1.14656775e+00],\n",
       "       [-2.78488667e+01,  7.75186150e-02,  2.38588254e+01,\n",
       "         9.19916222e+00, -2.87046435e+00, -1.07017459e+00,\n",
       "         6.16696253e+00, -9.97505685e-03,  5.95040415e+00,\n",
       "         1.14656773e+00],\n",
       "       [-2.78488662e+01,  7.75185564e-02,  2.38588261e+01,\n",
       "         9.19916680e+00, -2.87046447e+00, -1.07017483e+00,\n",
       "         6.16696593e+00, -9.97505856e-03,  5.95040465e+00,\n",
       "         1.14656769e+00],\n",
       "       [-2.78488666e+01,  7.75186165e-02,  2.38588255e+01,\n",
       "         9.19916616e+00, -2.87046438e+00, -1.07017503e+00,\n",
       "         6.16696225e+00, -9.97505889e-03,  5.95040451e+00,\n",
       "         1.14656764e+00],\n",
       "       [-2.78488671e+01,  7.75186849e-02,  2.38588251e+01,\n",
       "         9.19915782e+00, -2.87046432e+00, -1.07017456e+00,\n",
       "         6.16695695e+00, -9.97505834e-03,  5.95040382e+00,\n",
       "         1.14656773e+00],\n",
       "       [-2.78488673e+01,  7.75187070e-02,  2.38588249e+01,\n",
       "         9.19915451e+00, -2.87046427e+00, -1.07017427e+00,\n",
       "         6.16695608e+00, -9.97505719e-03,  5.95040347e+00,\n",
       "         1.14656779e+00],\n",
       "       [-2.78488674e+01,  7.75187348e-02,  2.38588252e+01,\n",
       "         9.19915212e+00, -2.87046434e+00, -1.07017430e+00,\n",
       "         6.16695271e+00, -9.97506010e-03,  5.95040341e+00,\n",
       "         1.14656778e+00]]), array([28.86433056, 28.86433056, 28.86433056, 28.86433056, 28.86433056,\n",
       "       28.86433056, 28.86433056, 28.86433056, 28.86433056, 28.86433056,\n",
       "       28.86433056]))\n",
       "           fun: 28.86433055898806\n",
       "       message: 'Optimization terminated successfully.'\n",
       "          nfev: 4472\n",
       "           nit: 3132\n",
       "        status: 0\n",
       "       success: True\n",
       "             x: array([-2.78488672e+01,  7.75186875e-02,  2.38588248e+01,  9.19915928e+00,\n",
       "       -2.87046427e+00, -1.07017463e+00,  6.16695768e+00, -9.97505733e-03,\n",
       "        5.95040383e+00,  1.14656771e+00])"
      ]
     },
     "execution_count": 16,
     "metadata": {},
     "output_type": "execute_result"
    }
   ],
   "source": [
    "plsq2"
   ]
  },
  {
   "cell_type": "code",
   "execution_count": 17,
   "metadata": {},
   "outputs": [],
   "source": [
    "Pn2=plsq2.x"
   ]
  },
  {
   "cell_type": "code",
   "execution_count": 18,
   "metadata": {},
   "outputs": [
    {
     "name": "stdout",
     "output_type": "stream",
     "text": [
      "[-2.78488672e+01  7.75186875e-02  2.38588248e+01  9.19915928e+00\n",
      " -2.87046427e+00 -1.07017463e+00  6.16695768e+00 -9.97505733e-03\n",
      "  5.95040383e+00  1.14656771e+00]\n"
     ]
    }
   ],
   "source": [
    "# Parameters to use for the transfer function\n",
    "\n",
    "print(Pn2)"
   ]
  },
  {
   "cell_type": "code",
   "execution_count": 19,
   "metadata": {},
   "outputs": [],
   "source": [
    "Name2='RS_fit.txt'\n",
    "f1 = open(Name2, 'w')\n",
    "for i in range (0,len(Pn2)):\n",
    "    f1.write(str(Pn2[i]) + \"\\n\")\n",
    "    \n",
    "f1.close()"
   ]
  },
  {
   "cell_type": "markdown",
   "metadata": {},
   "source": [
    "## Fit for the Inhibitory neuron"
   ]
  },
  {
   "cell_type": "code",
   "execution_count": 20,
   "metadata": {},
   "outputs": [],
   "source": [
    "############# Fit for the inhibitory neuron\n",
    "\n",
    "Npts=1  #Resolution of the measured TF\n",
    "Npts2=1\n",
    "nue=np.arange(0.0000002,100, Npts)\n",
    "nui=np.arange(0.0000002,100, Npts2)\n",
    "#noute=np.arange(0.1,201, Npts)\n",
    "\n",
    "dim=len(nue)*len(nui)\n",
    "\n",
    "    \n",
    "nue2=np.ones(dim)        \n",
    "counter=0        \n",
    "for i in nue:\n",
    "    for j in range(0,len(nui)):  \n",
    "        nue2[counter]=i\n",
    "        counter=counter+1\n",
    "        \n",
    "nui2=nui        \n",
    "for j in range(0,len(nue)-1):\n",
    "    nui2=np.concatenate((nui2, nui), axis=None)\n",
    "\n",
    "noutexpe=np.load('ExpTF_inh_Nstp-100_Nstp2-100_new-params_0-100.npy')\n",
    "\n",
    "noutexpe2=np.ones(dim)\n",
    "adapexpe2=np.zeros(dim)\n",
    "counter=0\n",
    "\n",
    "for j in range(0,len(nue)):\n",
    "    for i in range(0,len(nui)):\n",
    "        noutexpe2[counter]=noutexpe[j,i]\n",
    "        #adapexpe2[counter]=adapexpe[j,i]\n",
    "        counter=counter+1\n",
    "\n",
    "\n",
    "#noutexpe"
   ]
  },
  {
   "cell_type": "code",
   "execution_count": 21,
   "metadata": {},
   "outputs": [
    {
     "name": "stderr",
     "output_type": "stream",
     "text": [
      "/home/ftesler/anaconda3/lib/python3.7/site-packages/ipykernel_launcher.py:29: RuntimeWarning: invalid value encountered in sqrt\n",
      "/home/ftesler/anaconda3/lib/python3.7/site-packages/ipykernel_launcher.py:30: RuntimeWarning: invalid value encountered in sqrt\n",
      "/home/ftesler/anaconda3/lib/python3.7/site-packages/ipykernel_launcher.py:40: RuntimeWarning: invalid value encountered in sqrt\n",
      "/home/ftesler/anaconda3/lib/python3.7/site-packages/ipykernel_launcher.py:55: RuntimeWarning: invalid value encountered in sqrt\n",
      "/home/ftesler/anaconda3/lib/python3.7/site-packages/ipykernel_launcher.py:56: RuntimeWarning: invalid value encountered in sqrt\n"
     ]
    }
   ],
   "source": [
    "# Remove all the problematic points (nans, etc.) to make the fit\n",
    "\n",
    "\n",
    "svout=sv(nue2,nui2)\n",
    "tvout=tauv(nue2,nui2)\n",
    "\n",
    "\n",
    "jjindex=np.where(np.isnan(svout))\n",
    "\n",
    "\n",
    "nue2=np.delete(nue2,jjindex)\n",
    "nui2=np.delete(nui2,jjindex)\n",
    "noutexpe2=np.delete(noutexpe2,jjindex)\n",
    "\n",
    "tvout=tauv(nue2,nui2)\n",
    "\n",
    "jjindex=np.where(np.isnan(tvout))\n",
    "\n",
    "nue2=np.delete(nue2,jjindex)\n",
    "nui2=np.delete(nui2,jjindex)\n",
    "noutexpe2=np.delete(noutexpe2,jjindex)\n",
    "\n",
    "\n",
    "jjindex=np.where(noutexpe2>0.)\n",
    "\n",
    "nue2=nue2[jjindex]\n",
    "nui2=nui2[jjindex]\n",
    "noutexpe2=noutexpe2[jjindex]\n",
    "\n",
    "\n",
    "Fout=noutexpe2\n",
    "Vthre_eff=effective_Vthre(nue2,nui2,Fout,gizi,Eizi,0)\n",
    "ijn=np.where(np.isinf(Vthre_eff))\n",
    "nue2=np.delete(nue2,ijn)\n",
    "nui2=np.delete(nui2,ijn)\n",
    "noutexpe2=np.delete(noutexpe2,ijn)\n",
    "ijn=np.where(noutexpe2>60)\n",
    "nue2=np.delete(nue2,ijn)\n",
    "nui2=np.delete(nui2,ijn)\n",
    "noutexpe2=np.delete(noutexpe2,ijn)\n",
    "\n",
    "Fout=noutexpe2"
   ]
  },
  {
   "cell_type": "code",
   "execution_count": 22,
   "metadata": {},
   "outputs": [
    {
     "name": "stdout",
     "output_type": "stream",
     "text": [
      "Optimization terminated successfully.\n",
      "         Current function value: 50.581430\n",
      "         Iterations: 3501\n",
      "         Function evaluations: 4945\n"
     ]
    }
   ],
   "source": [
    "# Fit on TF\n",
    "\n",
    "plsq2 = minimize(Res2in, Pn, method='nelder-mead', options={'xtol': 1e-5, 'disp': True, 'maxiter':10000})"
   ]
  },
  {
   "cell_type": "code",
   "execution_count": 23,
   "metadata": {},
   "outputs": [
    {
     "data": {
      "text/plain": [
       " final_simplex: (array([[-3.00178126e+01,  1.62788045e-01,  2.17624223e+01,\n",
       "        -3.69954918e+01, -2.68888514e+00,  3.26691139e-01,\n",
       "        -4.37286464e+01, -2.62828987e-03, -1.24850434e+01,\n",
       "         2.69766790e+00],\n",
       "       [-3.00178135e+01,  1.62788130e-01,  2.17624205e+01,\n",
       "        -3.69955007e+01, -2.68888503e+00,  3.26691478e-01,\n",
       "        -4.37286556e+01, -2.62828885e-03, -1.24850470e+01,\n",
       "         2.69766673e+00],\n",
       "       [-3.00178132e+01,  1.62788119e-01,  2.17624218e+01,\n",
       "        -3.69954982e+01, -2.68888510e+00,  3.26691469e-01,\n",
       "        -4.37286506e+01, -2.62829058e-03, -1.24850434e+01,\n",
       "         2.69766767e+00],\n",
       "       [-3.00178129e+01,  1.62788056e-01,  2.17624216e+01,\n",
       "        -3.69954951e+01, -2.68888513e+00,  3.26691299e-01,\n",
       "        -4.37286499e+01, -2.62828929e-03, -1.24850456e+01,\n",
       "         2.69766720e+00],\n",
       "       [-3.00178126e+01,  1.62788061e-01,  2.17624227e+01,\n",
       "        -3.69954898e+01, -2.68888508e+00,  3.26691256e-01,\n",
       "        -4.37286409e+01, -2.62828898e-03, -1.24850409e+01,\n",
       "         2.69766875e+00],\n",
       "       [-3.00178128e+01,  1.62788095e-01,  2.17624231e+01,\n",
       "        -3.69954945e+01, -2.68888521e+00,  3.26691338e-01,\n",
       "        -4.37286458e+01, -2.62829305e-03, -1.24850408e+01,\n",
       "         2.69766825e+00],\n",
       "       [-3.00178128e+01,  1.62788079e-01,  2.17624222e+01,\n",
       "        -3.69954932e+01, -2.68888510e+00,  3.26691285e-01,\n",
       "        -4.37286461e+01, -2.62828969e-03, -1.24850429e+01,\n",
       "         2.69766802e+00],\n",
       "       [-3.00178127e+01,  1.62788009e-01,  2.17624214e+01,\n",
       "        -3.69954920e+01, -2.68888516e+00,  3.26690918e-01,\n",
       "        -4.37286517e+01, -2.62828932e-03, -1.24850476e+01,\n",
       "         2.69766674e+00],\n",
       "       [-3.00178127e+01,  1.62788057e-01,  2.17624223e+01,\n",
       "        -3.69954920e+01, -2.68888511e+00,  3.26691225e-01,\n",
       "        -4.37286455e+01, -2.62828940e-03, -1.24850429e+01,\n",
       "         2.69766805e+00],\n",
       "       [-3.00178132e+01,  1.62788098e-01,  2.17624212e+01,\n",
       "        -3.69954983e+01, -2.68888509e+00,  3.26691337e-01,\n",
       "        -4.37286538e+01, -2.62828964e-03, -1.24850458e+01,\n",
       "         2.69766708e+00],\n",
       "       [-3.00178131e+01,  1.62788121e-01,  2.17624224e+01,\n",
       "        -3.69954995e+01, -2.68888519e+00,  3.26691663e-01,\n",
       "        -4.37286487e+01, -2.62829247e-03, -1.24850423e+01,\n",
       "         2.69766770e+00]]), array([50.5814303, 50.5814303, 50.5814303, 50.5814303, 50.5814303,\n",
       "       50.5814303, 50.5814303, 50.5814303, 50.5814303, 50.5814303,\n",
       "       50.5814303]))\n",
       "           fun: 50.58143030114964\n",
       "       message: 'Optimization terminated successfully.'\n",
       "          nfev: 4945\n",
       "           nit: 3501\n",
       "        status: 0\n",
       "       success: True\n",
       "             x: array([-3.00178126e+01,  1.62788045e-01,  2.17624223e+01, -3.69954918e+01,\n",
       "       -2.68888514e+00,  3.26691139e-01, -4.37286464e+01, -2.62828987e-03,\n",
       "       -1.24850434e+01,  2.69766790e+00])"
      ]
     },
     "execution_count": 23,
     "metadata": {},
     "output_type": "execute_result"
    }
   ],
   "source": [
    "plsq2"
   ]
  },
  {
   "cell_type": "code",
   "execution_count": 24,
   "metadata": {},
   "outputs": [],
   "source": [
    "# Parameters to use for the TF (inhibitory)\n",
    "\n",
    "Pn2=plsq2.x"
   ]
  },
  {
   "cell_type": "code",
   "execution_count": 25,
   "metadata": {},
   "outputs": [],
   "source": [
    "Name2='FS_fit.txt'\n",
    "f1 = open(Name2, 'w')\n",
    "for i in range (0,len(Pn2)):\n",
    "    f1.write(str(Pn2[i]) + \"\\n\")\n",
    "    \n",
    "f1.close()"
   ]
  },
  {
   "cell_type": "code",
   "execution_count": null,
   "metadata": {},
   "outputs": [],
   "source": []
  }
 ],
 "metadata": {
  "kernelspec": {
   "display_name": "Python 3 (ipykernel)",
   "language": "python",
   "name": "python3"
  },
  "language_info": {
   "codemirror_mode": {
    "name": "ipython",
    "version": 3
   },
   "file_extension": ".py",
   "mimetype": "text/x-python",
   "name": "python",
   "nbconvert_exporter": "python",
   "pygments_lexer": "ipython3",
   "version": "3.9.12"
  }
 },
 "nbformat": 4,
 "nbformat_minor": 2
}
